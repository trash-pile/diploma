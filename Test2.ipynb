{
 "cells": [
  {
   "cell_type": "code",
   "execution_count": 1,
   "id": "ff04e4fc",
   "metadata": {},
   "outputs": [
    {
     "data": {
      "text/plain": [
       "True"
      ]
     },
     "execution_count": 1,
     "metadata": {},
     "output_type": "execute_result"
    }
   ],
   "source": [
    "import cv2\n",
    "import numpy as np\n",
    "\n",
    "# Load the images\n",
    "image1 = cv2.imread('image1.jpg')\n",
    "image2 = cv2.imread('image2.jpg')\n",
    "\n",
    "height, width, _ = image1.shape\n",
    "canvas_height = height * 3\n",
    "canvas_width = width * 3\n",
    "green_canvas = np.zeros((canvas_height, canvas_width, 3), dtype=np.uint8)\n",
    "green_canvas[:] = (0, 0, 0)  # Set the canvas to green\n",
    "y_offset = (canvas_height - height) // 2\n",
    "x_offset = (canvas_width - width) // 2\n",
    "green_canvas[y_offset:y_offset + height, x_offset:x_offset + width] = image1\n",
    "image1 = green_canvas\n",
    "\n",
    "\n",
    "height, width, _ = image2.shape\n",
    "canvas_height = height * 3\n",
    "canvas_width = width * 3\n",
    "green_canvas = np.zeros((canvas_height, canvas_width, 3), dtype=np.uint8)\n",
    "green_canvas[:] = (0, 0, 0)  # Set the canvas to green\n",
    "y_offset = (canvas_height - height) // 2\n",
    "x_offset = (canvas_width - width) // 2\n",
    "green_canvas[y_offset:y_offset + height, x_offset:x_offset + width] = image2\n",
    "image2 = green_canvas\n",
    "\n",
    "\n",
    "\n",
    "\n",
    "\n",
    "# Convert images to grayscale\n",
    "gray1 = cv2.cvtColor(image1, cv2.COLOR_BGR2GRAY)\n",
    "gray2 = cv2.cvtColor(image2, cv2.COLOR_BGR2GRAY)\n",
    "\n",
    "# Detect ORB keypoints and descriptors\n",
    "orb = cv2.ORB_create()\n",
    "keypoints1, descriptors1 = orb.detectAndCompute(gray1, None)\n",
    "keypoints2, descriptors2 = orb.detectAndCompute(gray2, None)\n",
    "\n",
    "# Match descriptors using BFMatcher\n",
    "bf = cv2.BFMatcher(cv2.NORM_HAMMING, crossCheck=True)\n",
    "matches = bf.match(descriptors1, descriptors2)\n",
    "\n",
    "# Sort matches by distance\n",
    "matches = sorted(matches, key=lambda x: x.distance)\n",
    "\n",
    "# Extract location of good matches\n",
    "points1 = np.zeros((len(matches), 2), dtype=np.float32)\n",
    "points2 = np.zeros((len(matches), 2), dtype=np.float32)\n",
    "\n",
    "for i, match in enumerate(matches):\n",
    "    points1[i, :] = keypoints1[match.queryIdx].pt\n",
    "    points2[i, :] = keypoints2[match.trainIdx].pt\n",
    "\n",
    "# Find the affine transformation matrix\n",
    "matrix, _ = cv2.estimateAffine2D(points2, points1)\n",
    "\n",
    "# Apply the affine transformation\n",
    "result = cv2.warpAffine(image2, matrix, (image1.shape[1], image1.shape[0]))\n",
    "\n",
    "# Overlay the images\n",
    "cv2.imwrite('result.jpg', result)\n",
    "output = cv2.addWeighted(image1, 0.5, result, 0.5, 0)\n",
    "\n",
    "# Save the result\n",
    "cv2.imwrite('output.jpg', output)"
   ]
  },
  {
   "cell_type": "code",
   "execution_count": null,
   "id": "2aebf554",
   "metadata": {},
   "outputs": [],
   "source": []
  }
 ],
 "metadata": {
  "kernelspec": {
   "display_name": "Python 3 (ipykernel)",
   "language": "python",
   "name": "python3"
  },
  "language_info": {
   "codemirror_mode": {
    "name": "ipython",
    "version": 3
   },
   "file_extension": ".py",
   "mimetype": "text/x-python",
   "name": "python",
   "nbconvert_exporter": "python",
   "pygments_lexer": "ipython3",
   "version": "3.11.5"
  }
 },
 "nbformat": 4,
 "nbformat_minor": 5
}
