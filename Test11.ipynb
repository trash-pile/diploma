{
 "cells": [
  {
   "cell_type": "code",
   "execution_count": null,
   "id": "a00ab975-92e9-4e74-8d78-b1ffa124711a",
   "metadata": {},
   "outputs": [],
   "source": []
  }
 ],
 "metadata": {
  "kernelspec": {
   "display_name": "",
   "name": ""
  },
  "language_info": {
   "name": ""
  }
 },
 "nbformat": 4,
 "nbformat_minor": 5
}
